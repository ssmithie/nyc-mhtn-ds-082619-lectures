{
 "cells": [
  {
   "cell_type": "markdown",
   "metadata": {
    "slideshow": {
     "slide_type": "slide"
    }
   },
   "source": [
    "### Quick Question|\n",
    "\n",
    "Why do we write functions?"
   ]
  },
  {
   "cell_type": "markdown",
   "metadata": {
    "slideshow": {
     "slide_type": "slide"
    }
   },
   "source": [
    "# OOP: Object Oriented Programming"
   ]
  },
  {
   "cell_type": "markdown",
   "metadata": {
    "slideshow": {
     "slide_type": "subslide"
    }
   },
   "source": [
    "## Aim\n",
    "\n",
    "- Differentiate between a function, class, and package.\n",
    "- Differentiate between a function, method, and attribute.\n",
    "- Create a class with a method and attribute attached, and instantiate an instance of the class.\n"
   ]
  },
  {
   "cell_type": "markdown",
   "metadata": {
    "slideshow": {
     "slide_type": "subslide"
    }
   },
   "source": [
    "## Agenda\n",
    "\n",
    "- Review Functions\n",
    "- Introduce Modularity in Python\n",
    "- Make a class\n",
    "- Use a module\n",
    "- Idenitfy a package"
   ]
  },
  {
   "cell_type": "markdown",
   "metadata": {
    "slideshow": {
     "slide_type": "slide"
    }
   },
   "source": [
    "Functions help us to make our code DRY.\n",
    "\n",
    "### Don't Repeat Yourself"
   ]
  },
  {
   "cell_type": "markdown",
   "metadata": {
    "slideshow": {
     "slide_type": "slide"
    }
   },
   "source": [
    "### This is Tired"
   ]
  },
  {
   "cell_type": "code",
   "execution_count": 4,
   "metadata": {},
   "outputs": [],
   "source": [
    "import datetime\n"
   ]
  },
  {
   "cell_type": "code",
   "execution_count": null,
   "metadata": {
    "slideshow": {
     "slide_type": "fragment"
    }
   },
   "outputs": [],
   "source": [
    "# Subject data = [weight_kg, height_m]\n",
    "subject1 = [80, 1.62]\n",
    "subject2 = [69, 1.53]\n",
    "subject3 = [80, 1.66]\n",
    "subject4 = [80, 1.79]\n",
    "subject5 = [72, 1.60]\n",
    "\n",
    "#calculate BMI for subject 1\n",
    "bmi_subject1 = int(subject1[0] / subject1[1]**2)\n",
    "print(\"bmi {} = {}\".format('subject1', bmi_subject1))\n",
    "\n",
    "#calculate BMI for subject 2\n",
    "bmi_subject2 = int(subject2[0] / subject2[1]**2)\n",
    "print(\"bmi {} = {}\".format('subject2', bmi_subject2))\n",
    "\n",
    "#calculate BMI for subject 3\n",
    "bmi_subject3 = int(subject3[0] / subject3[1]**2)\n",
    "print(\"bmi {} = {}\".format('subject3', bmi_subject3))\n",
    "\n",
    "#calculate BMI for subject 4\n",
    "bmi_subject4 = int(subject4[0] / subject4[1]**2)\n",
    "print(\"bmi {} = {}\".format('subject4', bmi_subject4))\n",
    "\n",
    "#calculate BMI for subject 5\n",
    "bmi_subject5 = int(subject5[0] / subject5[1]**2)\n",
    "print(\"bmi {} = {}\".format('subject5', bmi_subject5))\n"
   ]
  },
  {
   "cell_type": "markdown",
   "metadata": {
    "slideshow": {
     "slide_type": "subslide"
    }
   },
   "source": [
    "### So Wired!\n",
    "\n",
    "Instead of rewriting the code 5 times, lets write one function and call the function. "
   ]
  },
  {
   "cell_type": "code",
   "execution_count": 1,
   "metadata": {
    "slideshow": {
     "slide_type": "fragment"
    }
   },
   "outputs": [
    {
     "name": "stdout",
     "output_type": "stream",
     "text": [
      "bmi subject1 = 30\n",
      "bmi subject2 = 29\n",
      "bmi subject3 = 29\n",
      "bmi subject4 = 24\n",
      "bmi subject5 = 28\n"
     ]
    }
   ],
   "source": [
    "def bmi_calc(sub_num, weight_kg, height_m):\n",
    "    \"\"\"Calculate BMI from weight in kg and height in meters\"\"\"\n",
    "    bmi = int(weight_kg / height_m**2)\n",
    "    subject = 'subject' + str(sub_num)\n",
    "    print(\"bmi {} = {}\".format(subject, bmi))\n",
    "\n",
    "# Subject data = [weight_kg, height_m]\n",
    "subjects =[[1, 80, 1.62], # subject1\n",
    "           [2, 69, 1.53], # subject2\n",
    "           [3, 80, 1.66], # subject3\n",
    "           [4, 80, 1.79], # subject4\n",
    "           [5, 72, 1.60]] # subject5\n",
    "\n",
    "for sub in subjects:\n",
    "    bmi_calc(sub[0], sub[1], sub[2])"
   ]
  },
  {
   "cell_type": "markdown",
   "metadata": {
    "slideshow": {
     "slide_type": "slide"
    }
   },
   "source": [
    "![mayes](mayes.png)"
   ]
  },
  {
   "cell_type": "markdown",
   "metadata": {
    "slideshow": {
     "slide_type": "slide"
    }
   },
   "source": [
    "## Modularity \n",
    "Modularity is the power to make self-contained, reusable pieces which can be combined in new ways to solve different problems. \n",
    "\n"
   ]
  },
  {
   "cell_type": "markdown",
   "metadata": {
    "slideshow": {
     "slide_type": "subslide"
    }
   },
   "source": [
    "There are several advantages to modularizing code in a large application:"
   ]
  },
  {
   "cell_type": "markdown",
   "metadata": {
    "slideshow": {
     "slide_type": "fragment"
    }
   },
   "source": [
    "- **Simplicity:** Rather than focusing on the entire problem at hand, a module typically focuses on one relatively small portion of the problem. If you’re working on a single module, you’ll have a smaller problem domain to wrap your head around. "
   ]
  },
  {
   "cell_type": "markdown",
   "metadata": {
    "slideshow": {
     "slide_type": "fragment"
    }
   },
   "source": [
    "\n",
    "- **Maintainability:** Modules are typically designed so that they enforce logical boundaries between different problem domains. If modules are written in a way that minimizes interdependency, there is decreased likelihood that modifications to a single module will have an impact on other parts of the program. This makes it more viable for a team of many programmers to work collaboratively on a large application."
   ]
  },
  {
   "cell_type": "markdown",
   "metadata": {
    "slideshow": {
     "slide_type": "fragment"
    }
   },
   "source": [
    "- **Reusability:** Functionality defined in a single module can be easily reused by other parts of the application. This eliminates the need to recreate duplicate code."
   ]
  },
  {
   "cell_type": "markdown",
   "metadata": {
    "slideshow": {
     "slide_type": "fragment"
    }
   },
   "source": [
    "- **Scoping:** Modules typically define a separate namespace, which helps avoid collisions between identifiers in different areas of a program."
   ]
  },
  {
   "cell_type": "markdown",
   "metadata": {
    "slideshow": {
     "slide_type": "subslide"
    }
   },
   "source": [
    "Python also gives us several powerful modularization mechanisms.\n",
    "\n",
    "- Functions\n",
    "- Classes\n",
    "- Modules\n",
    "- Packages"
   ]
  },
  {
   "cell_type": "markdown",
   "metadata": {
    "slideshow": {
     "slide_type": "slide"
    }
   },
   "source": [
    "OOP uses the concept of objects and classes."
   ]
  },
  {
   "cell_type": "markdown",
   "metadata": {
    "slideshow": {
     "slide_type": "subslide"
    }
   },
   "source": [
    "### Classes\n",
    "\n",
    " A class can be thought of as a 'blueprint' for objects. These can have their own attributes (characteristics they possess), and methods (actions they perform)."
   ]
  },
  {
   "cell_type": "markdown",
   "metadata": {
    "slideshow": {
     "slide_type": "subslide"
    }
   },
   "source": [
    "Classes/Objects can have **attributes** that are essentially variables associated with the class. \n",
    "\n",
    "Classes/Objects can also contain methods. **Methods** in objects are functions that belongs to the object.\n",
    "\n"
   ]
  },
  {
   "cell_type": "markdown",
   "metadata": {
    "slideshow": {
     "slide_type": "subslide"
    }
   },
   "source": [
    "Classes have a function called __init__(), which is always executed when the class is being initiated."
   ]
  },
  {
   "cell_type": "code",
   "execution_count": null,
   "metadata": {
    "slideshow": {
     "slide_type": "fragment"
    }
   },
   "outputs": [],
   "source": [
    "\n",
    "#creating a class called Cohort\n",
    "class Cohort:\n",
    "    #every class must begin with this init function\n",
    "    def __init__(self):\n",
    "        self.start_date = datetime.datetime.now().strftime(\"%m-%d-%Y\")\n",
    "\n"
   ]
  },
  {
   "cell_type": "code",
   "execution_count": null,
   "metadata": {},
   "outputs": [],
   "source": [
    "new_class = Cohort()\n"
   ]
  },
  {
   "cell_type": "code",
   "execution_count": null,
   "metadata": {},
   "outputs": [],
   "source": [
    "new_class.start_date"
   ]
  },
  {
   "cell_type": "markdown",
   "metadata": {},
   "source": [
    "### What is the init method?\n",
    "\n",
    "The __init__ method is roughly what represents a constructor in Python. When you call A() Python creates an object for you, and passes it as the first parameter to the __init__ method. Any additional parameters (e.g., A(24, 'Hello')) will also get passed as arguments--in this case causing an exception to be raised, since the constructor isn't expecting them."
   ]
  },
  {
   "cell_type": "code",
   "execution_count": 16,
   "metadata": {
    "slideshow": {
     "slide_type": "fragment"
    }
   },
   "outputs": [],
   "source": [
    "#adding more attributes to the Cohort class\n",
    "class Cohort:\n",
    "    def __init__(self, students, program, start_date=datetime.datetime.now().strftime(\"%m-%d-%Y\") ):\n",
    "        self.start_date = start_date\n",
    "        self.students = students\n",
    "        self.program = program\n",
    "        self.name = program +\"_\"+self.start_date\n",
    "\n"
   ]
  },
  {
   "cell_type": "code",
   "execution_count": 17,
   "metadata": {},
   "outputs": [
    {
     "name": "stdout",
     "output_type": "stream",
     "text": [
      "<class 'str'>\n"
     ]
    }
   ],
   "source": [
    "student_list = [\"John\", \"Ariel\", \"Jace\", \"Romea\", \"Irina\"]\n",
    "\n",
    "dsc = Cohort(student_list, 'DS'  )\n"
   ]
  },
  {
   "cell_type": "code",
   "execution_count": 18,
   "metadata": {},
   "outputs": [
    {
     "data": {
      "text/plain": [
       "'09-04-2019'"
      ]
     },
     "execution_count": 18,
     "metadata": {},
     "output_type": "execute_result"
    }
   ],
   "source": [
    "dsc.start_date"
   ]
  },
  {
   "cell_type": "markdown",
   "metadata": {},
   "source": [
    "### Adding Methods\n",
    "\n",
    "Now we want to add functions to our class. These are referred to as methods."
   ]
  },
  {
   "cell_type": "code",
   "execution_count": 21,
   "metadata": {},
   "outputs": [],
   "source": [
    "class Cohort:\n",
    "    def __init__(self, students, program):\n",
    "        self.start_date = datetime.datetime.now().strftime(\"%m-%d-%Y\")\n",
    "        self.students = students\n",
    "        self.program = program\n",
    "        self.name = program +\"_\"+self.start_date\n",
    "\n",
    "            \n",
    "    def add_student(self, student):\n",
    "        self.students.append(student)\n",
    "        \n",
    "    def make_pairs(self):\n",
    "        s_list = self.students\n",
    "        r_list = s_list[::-1]\n",
    "        return list(zip(s_list, r_list))\n"
   ]
  },
  {
   "cell_type": "code",
   "execution_count": 9,
   "metadata": {
    "slideshow": {
     "slide_type": "fragment"
    }
   },
   "outputs": [
    {
     "name": "stdout",
     "output_type": "stream",
     "text": [
      "['John', 'Ariel', 'Jace', 'Romea', 'Irina']\n",
      "['John', 'Ariel', 'Jace', 'Romea', 'Irina', 'Amalia']\n"
     ]
    }
   ],
   "source": [
    "dsc = Cohort(student_list, 'DS' )\n",
    "\n",
    "print(dsc.students)\n",
    "dsc.add_student('Amalia')\n",
    "print(dsc.students)"
   ]
  },
  {
   "cell_type": "code",
   "execution_count": 10,
   "metadata": {},
   "outputs": [
    {
     "name": "stdout",
     "output_type": "stream",
     "text": [
      "['John', 'Ariel', 'Jace', 'Romea', 'Irina', 'Amalia', 'SeanAbu']\n"
     ]
    }
   ],
   "source": [
    "dsc.students.append('SeanAbu')\n",
    "print(dsc.students)"
   ]
  },
  {
   "cell_type": "code",
   "execution_count": 11,
   "metadata": {},
   "outputs": [
    {
     "data": {
      "text/plain": [
       "'SeanAbu'"
      ]
     },
     "execution_count": 11,
     "metadata": {},
     "output_type": "execute_result"
    }
   ],
   "source": [
    "dsc.students.pop()"
   ]
  },
  {
   "cell_type": "code",
   "execution_count": 12,
   "metadata": {
    "slideshow": {
     "slide_type": "fragment"
    }
   },
   "outputs": [
    {
     "data": {
      "text/plain": [
       "[('John', 'Amalia'),\n",
       " ('Ariel', 'Irina'),\n",
       " ('Jace', 'Romea'),\n",
       " ('Romea', 'Jace'),\n",
       " ('Irina', 'Ariel'),\n",
       " ('Amalia', 'John')]"
      ]
     },
     "execution_count": 12,
     "metadata": {},
     "output_type": "execute_result"
    }
   ],
   "source": [
    "dsc.make_pairs()"
   ]
  },
  {
   "cell_type": "markdown",
   "metadata": {
    "slideshow": {
     "slide_type": "subslide"
    }
   },
   "source": [
    "### The self Parameter\n",
    "The self parameter is a reference to the class itself, and is used to access variables that belongs to the class.\n",
    "\n",
    "It does not have to be named self , you can call it whatever you like, but it has to be the first parameter of any function in the class:"
   ]
  },
  {
   "cell_type": "code",
   "execution_count": null,
   "metadata": {
    "slideshow": {
     "slide_type": "fragment"
    }
   },
   "outputs": [],
   "source": [
    "class cohort:\n",
    "    def __init__(something, students, program):\n",
    "        something.start_date = datetime.datetime.now().strftime(\"%m-%d-%Y\")\n",
    "        something.students = students\n",
    "        something.program = program\n",
    "        something.name = program +\"_\"+something.start_date\n",
    "\n",
    "            \n",
    "    def add_student(something, student):\n",
    "        something.students.append(student)\n",
    "        \n",
    "    def make_pairs(something):\n",
    "        s_list = something.students\n",
    "        r_list = s_list[::-1]\n",
    "        return list(zip(s_list, r_list))\n",
    "\n",
    "dsc = cohort(student_list, 'DS' )\n",
    "\n",
    "dsc.students"
   ]
  },
  {
   "cell_type": "markdown",
   "metadata": {},
   "source": [
    "### Classes Applied:\n",
    "\n",
    "Create a class called `Human`, that has at least the following:\n",
    "\n",
    "- an attribute of `height` in inches \n",
    "- a method  `.talk()` that will take a string and print it out. "
   ]
  },
  {
   "cell_type": "markdown",
   "metadata": {},
   "source": [
    "## Python Inheritance\n",
    "Inheritance allows us to define a class that inherits all the methods and properties from another class.\n",
    "\n",
    "**Parent class** is the class being inherited from, also called base class.\n",
    "\n",
    "**Child class** is the class that inherits from another class, also called derived class."
   ]
  },
  {
   "cell_type": "code",
   "execution_count": 22,
   "metadata": {},
   "outputs": [],
   "source": [
    "#create a class specifically for DS cohors\n",
    "class Ds_cohort(cohort):\n",
    "    def __init__(self, students):\n",
    "        #uses the Cohort class and sets the program type to 'DS'\n",
    "        Cohort.__init__(self, students, 'DS')\n",
    "        \n",
    "    "
   ]
  },
  {
   "cell_type": "code",
   "execution_count": 20,
   "metadata": {},
   "outputs": [
    {
     "name": "stdout",
     "output_type": "stream",
     "text": [
      "<class 'str'>\n"
     ]
    }
   ],
   "source": [
    "new_ds= Ds_cohort(student_list)"
   ]
  },
  {
   "cell_type": "code",
   "execution_count": 23,
   "metadata": {},
   "outputs": [
    {
     "data": {
      "text/plain": [
       "'DS'"
      ]
     },
     "execution_count": 23,
     "metadata": {},
     "output_type": "execute_result"
    }
   ],
   "source": [
    "new_ds.program"
   ]
  },
  {
   "cell_type": "markdown",
   "metadata": {
    "slideshow": {
     "slide_type": "slide"
    }
   },
   "source": [
    "## Modules\n",
    "\n",
    "A file containing a set of functions you want to include in your application."
   ]
  },
  {
   "cell_type": "code",
   "execution_count": null,
   "metadata": {
    "slideshow": {
     "slide_type": "fragment"
    }
   },
   "outputs": [],
   "source": [
    "import example_mod as mod"
   ]
  },
  {
   "cell_type": "code",
   "execution_count": null,
   "metadata": {
    "slideshow": {
     "slide_type": "fragment"
    }
   },
   "outputs": [],
   "source": [
    "mod.s"
   ]
  },
  {
   "cell_type": "markdown",
   "metadata": {
    "slideshow": {
     "slide_type": "fragment"
    }
   },
   "source": [
    "Look in the example_mod.py file and find a variable or function in that file. \n",
    "\n",
    "Then write a line of code utilizing that variable/function."
   ]
  },
  {
   "cell_type": "code",
   "execution_count": null,
   "metadata": {},
   "outputs": [],
   "source": [
    "mod.Foo()"
   ]
  },
  {
   "cell_type": "markdown",
   "metadata": {
    "slideshow": {
     "slide_type": "slide"
    }
   },
   "source": [
    "## Packages \n",
    "\n",
    "Suppose you have developed a very large application that includes many modules. As the number of modules grows, it becomes difficult to keep track of them all if they are dumped into one location. This is particularly so if they have similar names or functionality. You might wish for a means of grouping and organizing them.\n"
   ]
  },
  {
   "cell_type": "markdown",
   "metadata": {
    "slideshow": {
     "slide_type": "subslide"
    }
   },
   "source": [
    "Packages are namespaces which contain multiple packages and modules themselves. They are simply directories, but with a twist."
   ]
  },
  {
   "cell_type": "markdown",
   "metadata": {
    "slideshow": {
     "slide_type": "fragment"
    }
   },
   "source": [
    "<img src=\"pkg_direct.png\" width=\"200\"/>\n"
   ]
  },
  {
   "cell_type": "code",
   "execution_count": null,
   "metadata": {
    "slideshow": {
     "slide_type": "subslide"
    }
   },
   "outputs": [],
   "source": [
    "import pandas as pd\n",
    "measurements = pd.read_csv(\"weight-height.csv\")\n",
    "measurements.tail(14)\n",
    "measurements.columns"
   ]
  },
  {
   "cell_type": "markdown",
   "metadata": {
    "slideshow": {
     "slide_type": "fragment"
    }
   },
   "source": [
    "Looking at the code block above, identify the following:\n",
    "    \n",
    "- Package: \n",
    "- Object:\n",
    "- Method:\n",
    "- Attribute:"
   ]
  },
  {
   "cell_type": "markdown",
   "metadata": {
    "slideshow": {
     "slide_type": "slide"
    }
   },
   "source": [
    "https://goo.gl/forms/YLXajp3pzugKfoaA3"
   ]
  }
 ],
 "metadata": {
  "kernelspec": {
   "display_name": "Python 3",
   "language": "python",
   "name": "python3"
  },
  "language_info": {
   "codemirror_mode": {
    "name": "ipython",
    "version": 3
   },
   "file_extension": ".py",
   "mimetype": "text/x-python",
   "name": "python",
   "nbconvert_exporter": "python",
   "pygments_lexer": "ipython3",
   "version": "3.7.3"
  }
 },
 "nbformat": 4,
 "nbformat_minor": 2
}
