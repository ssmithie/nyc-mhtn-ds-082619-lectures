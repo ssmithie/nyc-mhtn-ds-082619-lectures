{
 "cells": [
  {
   "cell_type": "markdown",
   "metadata": {
    "slideshow": {
     "slide_type": "slide"
    }
   },
   "source": [
    "# Debugging for Python"
   ]
  },
  {
   "cell_type": "markdown",
   "metadata": {
    "slideshow": {
     "slide_type": "slide"
    }
   },
   "source": [
    "<table border=\"0\">\n",
    " <tr>\n",
    "    <td><b style=\"font-size:48px; text-align: left\">History of Bugs</b></td>\n",
    "    <td><b style=\"font-size:30px\"></b></td>\n",
    " </tr>\n",
    " <tr>\n",
    "    <td style='width: 60%'><p style=\"font-size:34px\">It has been just so in all of my inventions. The first step is an intuition, and comes with a burst, then difficulties arise—this thing gives out and [it is] then that \"Bugs\"—as such little faults and difficulties are called—show themselves and months of intense watching, study and labor are requisite before commercial success or failure is certainly reached. </p>\n",
    "        <p><b style='font-size:30px'>Thomas Edison, 1878 letter to an associate</b></p></td>\n",
    "    <td><img src=\"https://media.giphy.com/media/UAUtB4Oi9U4EM/giphy.gif\" width=\"640\" height=\"480\" frameBorder=\"0\" />\n",
    "        <p></p>.</td>\n",
    " </tr>\n",
    "</table>"
   ]
  },
  {
   "cell_type": "markdown",
   "metadata": {
    "slideshow": {
     "slide_type": "subslide"
    }
   },
   "source": [
    "### Grace Hopper and The Actual Bug\n",
    "\n",
    "![Actual Bug](images/BugExample.jpg)"
   ]
  },
  {
   "cell_type": "markdown",
   "metadata": {
    "slideshow": {
     "slide_type": "slide"
    }
   },
   "source": [
    "## Debugging Algorithm"
   ]
  },
  {
   "cell_type": "markdown",
   "metadata": {
    "slideshow": {
     "slide_type": "fragment"
    }
   },
   "source": [
    "* Gather information"
   ]
  },
  {
   "cell_type": "markdown",
   "metadata": {
    "slideshow": {
     "slide_type": "fragment"
    }
   },
   "source": [
    "* Form a hypothesis"
   ]
  },
  {
   "cell_type": "markdown",
   "metadata": {
    "slideshow": {
     "slide_type": "fragment"
    }
   },
   "source": [
    "* Test the hypothesis"
   ]
  },
  {
   "cell_type": "markdown",
   "metadata": {
    "slideshow": {
     "slide_type": "fragment"
    }
   },
   "source": [
    "* Repeat until a hypothesis is proven"
   ]
  },
  {
   "cell_type": "markdown",
   "metadata": {
    "slideshow": {
     "slide_type": "fragment"
    }
   },
   "source": [
    "* Propose a solution"
   ]
  },
  {
   "cell_type": "markdown",
   "metadata": {
    "slideshow": {
     "slide_type": "slide"
    }
   },
   "source": [
    "## Tools\n",
    "* Try/Except Statements\n",
    "* Logging\n",
    "* Python Debugger (PDB)"
   ]
  },
  {
   "cell_type": "markdown",
   "metadata": {
    "slideshow": {
     "slide_type": "slide"
    }
   },
   "source": [
    "## Try/Except Statements\n",
    "\n",
    "![Try Hard](images/try_except.jpg)"
   ]
  },
  {
   "cell_type": "markdown",
   "metadata": {
    "slideshow": {
     "slide_type": "subslide"
    }
   },
   "source": [
    "### Try and Try Again (Except When You Can't)\n",
    "Handling exceptions (aka errors) is an important part of creating a robust program/script."
   ]
  },
  {
   "cell_type": "markdown",
   "metadata": {
    "slideshow": {
     "slide_type": "fragment"
    }
   },
   "source": [
    "What typically happens when an exception occurs?"
   ]
  },
  {
   "cell_type": "markdown",
   "metadata": {
    "slideshow": {
     "slide_type": "fragment"
    }
   },
   "source": [
    "Think about a time where an exception occurred in the middle of a code block. What did you want to have happen instead of just stopping?"
   ]
  },
  {
   "cell_type": "code",
   "execution_count": null,
   "metadata": {
    "scrolled": false,
    "slideshow": {
     "slide_type": "subslide"
    }
   },
   "outputs": [],
   "source": [
    "import matplotlib.pyplot as plt\n",
    "plt.plot(x)\n",
    "# What do we expect to happen if we run this line of code?"
   ]
  },
  {
   "cell_type": "markdown",
   "metadata": {
    "slideshow": {
     "slide_type": "subslide"
    }
   },
   "source": [
    "* **Try**\n",
    " * The program will **try** to run the code contained in the try block and if it hits an exception will check for an appropriately caught exception\n"
   ]
  },
  {
   "cell_type": "markdown",
   "metadata": {
    "slideshow": {
     "slide_type": "fragment"
    }
   },
   "source": [
    "* **Except**\n",
    " * The program will then run the appropriate **except** block."
   ]
  },
  {
   "cell_type": "markdown",
   "metadata": {
    "slideshow": {
     "slide_type": "fragment"
    }
   },
   "source": [
    "* **Else**\n",
    " * If no exception was caught it will then run any code in an **else** block."
   ]
  },
  {
   "cell_type": "markdown",
   "metadata": {
    "slideshow": {
     "slide_type": "fragment"
    }
   },
   "source": [
    "* **Finally**\n",
    " * And then finally the program will run any code in the **finally** block."
   ]
  },
  {
   "cell_type": "code",
   "execution_count": null,
   "metadata": {
    "slideshow": {
     "slide_type": "subslide"
    }
   },
   "outputs": [],
   "source": [
    "# To catch the error:\n",
    "try:\n",
    "    import matplotlib.pyplot as plt\n",
    "    plt.plot(x)\n",
    "except:\n",
    "    print('Variable x is not defined :(')\n",
    "else:\n",
    "    print('Successful plotting! :D')\n",
    "finally:\n",
    "    print(\"Code's done!\")"
   ]
  },
  {
   "cell_type": "markdown",
   "metadata": {
    "slideshow": {
     "slide_type": "fragment"
    }
   },
   "source": [
    "What are some potential problems with this approach?"
   ]
  },
  {
   "cell_type": "markdown",
   "metadata": {
    "slideshow": {
     "slide_type": "subslide"
    }
   },
   "source": [
    "\n",
    "<table border=\"0\">\n",
    " <tr>\n",
    "    <td><b style=\"font-size:48px; text-align: left\">The better approach</b></td>\n",
    "    <td><b style=\"font-size:30px\"></b></td>\n",
    " </tr>\n",
    " <tr>\n",
    "    <td style='width: 60%'><p style=\"font-size:34px\">\n",
    "<code>try:\n",
    "    plt.plot(x)\n",
    "except NameError:\n",
    "    print('Variable x is not defined')\n",
    "except ValueError:\n",
    "    print('Value not plottable')\n",
    "except et cetera:\n",
    "    et cetera\n",
    "</code></p>\n",
    "    <td><img src=\"images/error.png\" width=\"640\" height=\"480\" frameBorder=\"0\" />\n",
    "        <p></p>.</td>\n",
    " </tr>\n",
    "</table>\n"
   ]
  },
  {
   "cell_type": "code",
   "execution_count": null,
   "metadata": {
    "slideshow": {
     "slide_type": "skip"
    }
   },
   "outputs": [],
   "source": [
    "### Example in practice:\n",
    "class TwitterStreamer():\n",
    "    def stream_tweets(self,tag_list,user_list):\n",
    "        # Authentication stuff\n",
    "        listener = StdOutListener()\n",
    "        auth = OAuthHandler(\n",
    "            credentials.CONSUMER_KEY,credentials.CONSUMER_SECRET)\n",
    "        auth.set_access_token(\n",
    "            credentials.ACCESS_TOKEN,credentials.ACCESS_TOKEN_SECRET)\n",
    "        # Creating a stream object\n",
    "        stream = Stream(auth,listener)\n",
    "        start = time.time()\n",
    "        # Turning the firehose on\n",
    "        try:\n",
    "            stream.filter(\n",
    "                track=tag_list,follow=user_list) # listen in on incoming tweets\n",
    "        except BaseException as e:\n",
    "            print(f'Error on stream after {\n",
    "                time.time()-start} seconds: {e}') # print how long stream lasted\n",
    "            time.sleep(3) # give it a second (or 3)\n",
    "            print('Still listening . . .')\n",
    "            self.stream_tweets(\n",
    "                tag_list,user_list) # start listening again"
   ]
  },
  {
   "cell_type": "markdown",
   "metadata": {
    "slideshow": {
     "slide_type": "subslide"
    }
   },
   "source": [
    "\n",
    "<table border=\"0\">\n",
    " <tr>\n",
    "    <td><b style=\"font-size:48px; text-align: left\">The betterer approach</b></td>\n",
    "    <td><b style=\"font-size:30px\"></b></td>\n",
    " </tr>\n",
    " <tr>\n",
    "    <td style='width: 60%'><p style=\"font-size:34px\">\n",
    "<code>try:\n",
    "    plt.plot(x)\n",
    "except NameError:\n",
    "    print('Variable x is not defined')\n",
    "except ValueError:\n",
    "    etc,etc\n",
    "else:\n",
    "    plt.savefig()\n",
    "finally:\n",
    "    print('Job's done!')\n",
    "</code></p>\n",
    "    <td><img src=\"images/error.png\" width=\"640\" height=\"480\" frameBorder=\"0\" />\n",
    "        <p></p>.</td>\n",
    " </tr>\n",
    "</table>"
   ]
  },
  {
   "cell_type": "markdown",
   "metadata": {
    "slideshow": {
     "slide_type": "subslide"
    }
   },
   "source": [
    "## But we can still do bettererer\n",
    "What are some problems with the way errors are tracked in this example?"
   ]
  },
  {
   "cell_type": "markdown",
   "metadata": {
    "slideshow": {
     "slide_type": "subslide"
    }
   },
   "source": [
    "<p align=\"center\">\n",
    "  <img src=\"images/logging.jpg\" alt='Logbob'/ style=\"\n",
    "      display: block;\n",
    "      margin-left: auto;\n",
    "      margin-right: auto;\n",
    "      width: 50%;\">\n",
    "</p>"
   ]
  },
  {
   "cell_type": "markdown",
   "metadata": {
    "slideshow": {
     "slide_type": "slide"
    }
   },
   "source": [
    "## Logging (It's better than bad, it's good!)"
   ]
  },
  {
   "cell_type": "code",
   "execution_count": null,
   "metadata": {
    "slideshow": {
     "slide_type": "fragment"
    }
   },
   "outputs": [],
   "source": [
    "import logging\n",
    "\n",
    "logging.debug('This is a debug message')\n",
    "logging.info('This is an info message')\n",
    "logging.warning('This is a warning message')\n",
    "logging.error('This is an error message')\n",
    "logging.critical('This is a critical message')"
   ]
  },
  {
   "cell_type": "markdown",
   "metadata": {
    "slideshow": {
     "slide_type": "subslide"
    }
   },
   "source": [
    "## Logging\n",
    "\n",
    "#### Basic Configuration Options\n",
    "* **level**: The root logger will be set to the specified severity level.\n",
    "* **filename**: This specifies the file to log into.\n",
    "* **filemode**: If filename is given, the file is opened in this mode. The default is a, which appends.\n",
    "* **format**: Changes the output of the log message (many parameters to play with here)."
   ]
  },
  {
   "cell_type": "markdown",
   "metadata": {
    "slideshow": {
     "slide_type": "subslide"
    }
   },
   "source": [
    "### You can only set the basicConfig once, here's an example\n",
    "```\n",
    "logging.basicConfig(level=logging.INFO, \\\n",
    "            filename='app.log', filemode='w+', \\\n",
    "            format='%(name)s - %(levelname)s - %(message)s')\n",
    "```"
   ]
  },
  {
   "cell_type": "markdown",
   "metadata": {
    "slideshow": {
     "slide_type": "fragment"
    }
   },
   "source": [
    "![It's better than bad](images/log_example.jpg)"
   ]
  },
  {
   "cell_type": "markdown",
   "metadata": {
    "slideshow": {
     "slide_type": "subslide"
    }
   },
   "source": [
    "## Logging Example\n",
    "\n",
    "Write code below that writes a log file with a critical message containing your favorite band, the level of the message and the current time (this will require setting the basicConfig and a little googling).\n",
    "\n",
    "e.g:\n",
    "```\n",
    "Coheed & Cambria - CRITICAL - 28/Oct/2019 10:35:02\n",
    "```\n"
   ]
  },
  {
   "cell_type": "code",
   "execution_count": null,
   "metadata": {
    "slideshow": {
     "slide_type": "fragment"
    }
   },
   "outputs": [],
   "source": [
    "import logging\n",
    "logging.basicConfig(format='%(message)s - %(levelname)s - %(asctime)s')\n",
    "logging.critical('Coheed & Cambria \\\\m/')"
   ]
  },
  {
   "cell_type": "code",
   "execution_count": null,
   "metadata": {
    "slideshow": {
     "slide_type": "skip"
    }
   },
   "outputs": [],
   "source": [
    "# Example of it used in practice\n",
    "import logging\n",
    "import requests\n",
    "from flask import abort, Flask, request\n",
    "\n",
    "# Set logging parameters\n",
    "logging.basicConfig(level=logging.INFO, filename='app.log', filemode='w+', \\\n",
    "                    format='%(name)s - %(levelname)s - %(message)s')\n",
    "\n",
    "app = Flask(__name__)\n",
    "\n",
    "@app.route('/rec', methods=['POST'])\n",
    "def find_games():\n",
    "    try:\n",
    "        # Parameter options: game names or mechanic names\n",
    "        params=dict()\n",
    "        params['games'] = request.args.get('games')\n",
    "        params['mechanics'] = request.args.get('mechanics')\n",
    "        \n",
    "        # Split request into list of strings\n",
    "        games = params['games'].split(',') if params['games'] else []\n",
    "        mechanics = params['mechanics'].split(',') if params['mechanics'] else []\n",
    "        \n",
    "        # Log successful request\n",
    "        logging.info(f'Successful request: \\n Games: {games if games else \"None\"} \\n Mechanics: {mechanics if mechanics else \"None\"}')\n",
    "    except Exception as e:\n",
    "        logging.exception(f'Bad request: {request}')\n",
    "        # same as \n",
    "        # logging.error(f'Bad request: {request}', exc_info=True)\n",
    "        abort(400)\n",
    "\n",
    "    # Perform recommendation\n",
    "    data = get_nearest(games,mechanics)\n",
    "    logging.info(f'Results: {[datum[\"name\"] for datum in data]}')\n",
    "    line = '\\n'\n",
    "    logging.info(f'Returned: {line}{line.join([str(datum)+line for datum in data])}')\n",
    "\n",
    "    return {'games': data}"
   ]
  },
  {
   "cell_type": "markdown",
   "metadata": {
    "slideshow": {
     "slide_type": "slide"
    }
   },
   "source": [
    "## PDB (Python Debugger)"
   ]
  },
  {
   "cell_type": "markdown",
   "metadata": {
    "slideshow": {
     "slide_type": "fragment"
    }
   },
   "source": [
    "### Breakpoints\n",
    "Automatically imports pdb and creates a checkpoint within your code"
   ]
  },
  {
   "cell_type": "markdown",
   "metadata": {
    "slideshow": {
     "slide_type": "subslide"
    }
   },
   "source": [
    "### Keywords\n",
    "#### n(ext)\n",
    " * Run to the next line of code"
   ]
  },
  {
   "cell_type": "markdown",
   "metadata": {
    "slideshow": {
     "slide_type": "fragment"
    }
   },
   "source": [
    "```\n",
    "x_train, x_test, y_train, y_test = \n",
    "    train_test_split(features,target)\n",
    "for model_object in model_list:\n",
    "    breakpoint()\n",
    "    model = model_object.fit(x_train,y_train)\n",
    "    y_pred = model.predict(x_train)\n",
    "    plt.scatter(y_test, y_pred)\n",
    "```"
   ]
  },
  {
   "cell_type": "markdown",
   "metadata": {
    "slideshow": {
     "slide_type": "subslide"
    }
   },
   "source": [
    "#### s(tep)\n",
    " * Step into the next possible moment that can be stopped (calling a new function or the next line)"
   ]
  },
  {
   "cell_type": "markdown",
   "metadata": {
    "slideshow": {
     "slide_type": "subslide"
    }
   },
   "source": [
    "```\n",
    "x_train, x_test, y_train, y_test = \n",
    "train_test_split(features,target)\n",
    "for model_object in model_list:\n",
    "    breakpoint()\n",
    "    model = model_object.fit(x_train,y_train)\n",
    "    y_pred = model.predict(x_train)\n",
    "    plt.scatter(y_test, y_pred)\n",
    "```"
   ]
  },
  {
   "cell_type": "markdown",
   "metadata": {
    "slideshow": {
     "slide_type": "subslide"
    }
   },
   "source": [
    "#### c(ontinue)\n",
    "* Run until the next breakpoint is hit"
   ]
  },
  {
   "cell_type": "markdown",
   "metadata": {
    "slideshow": {
     "slide_type": "fragment"
    }
   },
   "source": [
    "```\n",
    "x_train, x_test, y_train, y_test = train_test_split(features,target)\n",
    "for model_object in model_list:\n",
    "    breakpoint()\n",
    "    model = model_object.fit(x_train,y_train)\n",
    "    y_pred = model.predict(x_train)\n",
    "    plt.scatter(y_test, y_pred)\n",
    "```"
   ]
  },
  {
   "cell_type": "markdown",
   "metadata": {
    "slideshow": {
     "slide_type": "subslide"
    }
   },
   "source": [
    "#### l(ist)\n",
    "* Print out the context of the code line you are in\n",
    "\n",
    "#### exit\n",
    "* Yeet out of the debugger"
   ]
  },
  {
   "cell_type": "markdown",
   "metadata": {
    "slideshow": {
     "slide_type": "slide"
    }
   },
   "source": [
    "# For Loop Example"
   ]
  },
  {
   "cell_type": "code",
   "execution_count": null,
   "metadata": {
    "slideshow": {
     "slide_type": "subslide"
    }
   },
   "outputs": [],
   "source": [
    "from IPython.display import clear_output as bye\n",
    "import Ledger\n",
    "bill = 100.0\n",
    "breakpoint()\n",
    "for year in range(1,4):\n",
    "    bill = Ledger.add_interest(bill)"
   ]
  },
  {
   "cell_type": "markdown",
   "metadata": {
    "slideshow": {
     "slide_type": "subslide"
    }
   },
   "source": [
    "#### b(reak) [ ([filename:]lineno | function) [, condition] ]\n",
    "* b (break) lists all of the breakpoints\n",
    "* b followed by the above conditional sets a new breakpoint"
   ]
  },
  {
   "cell_type": "code",
   "execution_count": null,
   "metadata": {
    "slideshow": {
     "slide_type": "subslide"
    }
   },
   "outputs": [],
   "source": [
    "from IPython.display import clear_output as bye\n",
    "import Ledger\n",
    "bill = 100.0\n",
    "breakpoint()\n",
    "for year in range(1,4):\n",
    "    bill = Ledger.add_interest(bill)"
   ]
  },
  {
   "cell_type": "markdown",
   "metadata": {
    "slideshow": {
     "slide_type": "slide"
    }
   },
   "source": [
    "## Dependence Example"
   ]
  },
  {
   "cell_type": "code",
   "execution_count": null,
   "metadata": {
    "slideshow": {
     "slide_type": "subslide"
    }
   },
   "outputs": [],
   "source": [
    "import Ledger"
   ]
  },
  {
   "cell_type": "code",
   "execution_count": null,
   "metadata": {
    "slideshow": {
     "slide_type": "fragment"
    }
   },
   "outputs": [],
   "source": [
    "Ledger.get_bill()"
   ]
  },
  {
   "cell_type": "code",
   "execution_count": null,
   "metadata": {
    "scrolled": true,
    "slideshow": {
     "slide_type": "subslide"
    }
   },
   "outputs": [],
   "source": [
    "bills=[]\n",
    "for i in range(4):\n",
    "    bills.append(Ledger.get_bill())"
   ]
  },
  {
   "cell_type": "code",
   "execution_count": null,
   "metadata": {
    "slideshow": {
     "slide_type": "fragment"
    }
   },
   "outputs": [],
   "source": [
    "Ledger.get_paid(bills)"
   ]
  },
  {
   "cell_type": "code",
   "execution_count": null,
   "metadata": {
    "scrolled": true,
    "slideshow": {
     "slide_type": "subslide"
    }
   },
   "outputs": [],
   "source": [
    "breakpoint()\n",
    "Ledger.get_paid(bills)"
   ]
  },
  {
   "cell_type": "markdown",
   "metadata": {
    "slideshow": {
     "slide_type": "subslide"
    }
   },
   "source": [
    "## Problem:\n",
    "Explore the following code using the breakpoint and figure out what went wrong in the loops:\n",
    "1. Set a breakpoint for when Ledger.get_bill gets called \n",
    "    * Remember jupyter notebooks have a lot of hidden functions running on the stack\n",
    "2. C(ontinue) into the function, check your context using l(ist) and run any commands to check variables\n",
    "3. **n**(ext), **s**(tep) and **c**(ontinue) are your best friends"
   ]
  },
  {
   "cell_type": "code",
   "execution_count": null,
   "metadata": {
    "scrolled": true,
    "slideshow": {
     "slide_type": "subslide"
    }
   },
   "outputs": [],
   "source": [
    "import Ledger\n",
    "bills=[]\n",
    "for i in range(1,5):\n",
    "    breakpoint()\n",
    "    bills.append(Ledger.get_bill())"
   ]
  },
  {
   "cell_type": "markdown",
   "metadata": {
    "slideshow": {
     "slide_type": "notes"
    }
   },
   "source": [
    "## Resources\n",
    "https://www.slideshare.net/svilen.ivanov/the-art-of-debugging\n",
    "\n",
    "https://www.cse.unr.edu/~bebis/CS308/PowerPoint/DEBUGGING.ppt\n",
    "\n",
    "https://www.w3schools.com/python/python_try_except.asp\n",
    "\n",
    "https://realpython.com/python-logging/\n",
    "\n",
    "https://paxson.io/python-logging/ (email logs)\n",
    "\n",
    "## Code Examples\n",
    "Logging Flask server https://github.com/danjizquierdo/BoardGameRecommender/blob/master/recommender.py\n",
    "\n",
    "Try/Except Twitter stream\n",
    "https://github.com/danjizquierdo/1stPrimaryDebateNight2020/blob/master/twitter_migrator.py"
   ]
  }
 ],
 "metadata": {
  "celltoolbar": "Slideshow",
  "kernelspec": {
   "display_name": "Python 3",
   "language": "python",
   "name": "python3"
  },
  "language_info": {
   "codemirror_mode": {
    "name": "ipython",
    "version": 3
   },
   "file_extension": ".py",
   "mimetype": "text/x-python",
   "name": "python",
   "nbconvert_exporter": "python",
   "pygments_lexer": "ipython3",
   "version": "3.7.3"
  }
 },
 "nbformat": 4,
 "nbformat_minor": 2
}
